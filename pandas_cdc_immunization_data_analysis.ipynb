{
 "cells": [
  {
   "cell_type": "markdown",
   "metadata": {},
   "source": [
    "I do some basic analysis of 2017 CDC immunization data here. Adapted from Applied Data Science with Python from Coursera"
   ]
  },
  {
   "cell_type": "code",
   "execution_count": 2,
   "metadata": {},
   "outputs": [
    {
     "data": {
      "text/plain": [
       "{'less than high school': 0.10202002459160373,\n",
       " 'high school': 0.172352011241876,\n",
       " 'more than high school but not college': 0.24588090637625154,\n",
       " 'college': 0.47974705779026877}"
      ]
     },
     "execution_count": 2,
     "metadata": {},
     "output_type": "execute_result"
    }
   ],
   "source": [
    "# This function determines the proportion of children in the dataset who had a mother with one of four\n",
    "# educational attainment levels\n",
    "def proportion_of_education():\n",
    "    import pandas as pd\n",
    "    df = pd.read_csv('NISPUF17.csv', index_col=0)\n",
    "    dict = {}\n",
    "    dict[\"less than high school\"] = sum(df['EDUC1']==1)/len(df)\n",
    "    dict[\"high school\"] = sum(df['EDUC1']==2)/len(df)\n",
    "    dict[\"more than high school but not college\"] = sum(df['EDUC1']==3)/len(df)\n",
    "    dict[\"college\"] = sum(df['EDUC1']==4)/len(df)\n",
    "    return dict\n",
    "proportion_of_education()"
   ]
  },
  {
   "cell_type": "code",
   "execution_count": 21,
   "metadata": {},
   "outputs": [
    {
     "name": "stdout",
     "output_type": "stream",
     "text": [
      "Breastmilk: 1.8799187420058687\n",
      "No breastmilk: 1.5963945918878317\n"
     ]
    }
   ],
   "source": [
    "# This function returns the mean # of flu vaccines for children \n",
    "# we know received breastmilk as a child and those we know didn't. Note the removal of NaN values.\n",
    "def average_influenza_doses():\n",
    "    import re\n",
    "    import pandas as pd\n",
    "    df = pd.read_csv('NISPUF17.csv', index_col=0)\n",
    "    df1 = df[df['CBF_01'] == 1]\n",
    "    df2 = df[df['CBF_01'] == 2]\n",
    "    x = df1[df1['P_NUMFLU']>=0]\n",
    "    yes = sum(x['P_NUMFLU'])/len(x)\n",
    "    y = df2[df2['P_NUMFLU']>=0]\n",
    "    no = sum(y['P_NUMFLU'])/len(y)\n",
    "    return((yes,no))\n",
    "print('Breastmilk: {0}\\nNo breastmilk: {1}'\n",
    "      .format(average_influenza_doses()[0], average_influenza_doses()[1]))"
   ]
  },
  {
   "cell_type": "code",
   "execution_count": 10,
   "metadata": {},
   "outputs": [
    {
     "data": {
      "text/plain": [
       "{'male': 0.009675583380762664, 'female': 0.0077918259335489565}"
      ]
     },
     "execution_count": 10,
     "metadata": {},
     "output_type": "execute_result"
    }
   ],
   "source": [
    "# This function returns the ratio of children who got varicella but were vaccinated against it to \n",
    "# children who were vaccinated and did not contract it, by sex.\n",
    "def chickenpox_by_sex():\n",
    "    import pandas as pd\n",
    "    df = pd.read_csv('NISPUF17.csv', index_col=0)\n",
    "    df3 = df[df['P_NUMVRC']>0]\n",
    "    dict1 = {}\n",
    "    df_men = df3[df3['SEX']==1]\n",
    "    df_women = df3[df3['SEX']==2]\n",
    "    dict1['male'] = sum(df_men['HAD_CPOX']==1)/sum(df_men['HAD_CPOX']==2)\n",
    "    dict1['female'] = sum(df_women['HAD_CPOX']==1)/sum(df_women['HAD_CPOX']==2)\n",
    "    return dict1\n",
    "chickenpox_by_sex()"
   ]
  },
  {
   "cell_type": "code",
   "execution_count": 12,
   "metadata": {},
   "outputs": [
    {
     "data": {
      "text/plain": [
       "0.07044873460148"
      ]
     },
     "execution_count": 12,
     "metadata": {},
     "output_type": "execute_result"
    }
   ],
   "source": [
    "# This function returns the correlation between having had varicella \n",
    "# and the number of varicella doses, after doing some cleaning.\n",
    "def corr_chickenpox():\n",
    "    import scipy.stats as stats\n",
    "    import numpy as np\n",
    "    import pandas as pd\n",
    "    df = pd.read_csv('NISPUF17.csv', index_col=0)\n",
    "    dfx = df[df['HAD_CPOX']<=2]\n",
    "    dfy = dfx[dfx.notna()['P_NUMVRC']==True]\n",
    "    corr, pval=stats.pearsonr(dfy['HAD_CPOX'],dfy['P_NUMVRC'])\n",
    "    return corr\n",
    "corr_chickenpox()"
   ]
  }
 ],
 "metadata": {
  "kernelspec": {
   "display_name": "Python 3",
   "language": "python",
   "name": "python3"
  },
  "language_info": {
   "codemirror_mode": {
    "name": "ipython",
    "version": 3
   },
   "file_extension": ".py",
   "mimetype": "text/x-python",
   "name": "python",
   "nbconvert_exporter": "python",
   "pygments_lexer": "ipython3",
   "version": "3.8.5"
  }
 },
 "nbformat": 4,
 "nbformat_minor": 4
}
